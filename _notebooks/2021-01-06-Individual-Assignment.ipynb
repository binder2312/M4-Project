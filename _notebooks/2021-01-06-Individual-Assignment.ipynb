{
 "cells": [
  {
   "cell_type": "markdown",
   "metadata": {
    "id": "FLnw42vmOzTV"
   },
   "source": [
    "## SDS 2020 - Module 3: Individual Assignment "
   ]
  },
  {
   "cell_type": "code",
   "execution_count": null,
   "metadata": {},
   "outputs": [],
   "source": [
    "Assignment\n",
    "toc:true\n",
    "branch: master\n",
    "badges: true\n",
    "comments: true\n",
    "categories: [fastpages, jupyter]"
   ]
  },
  {
   "cell_type": "code",
   "execution_count": 1,
   "metadata": {
    "id": "5VrnWb-uafdp"
   },
   "outputs": [],
   "source": [
    "import pandas as pd\n",
    "import numpy as np\n",
    "import tensorflow as tf\n",
    "from tensorflow import keras\n",
    "from tensorflow.keras import layers\n",
    "from tensorflow.keras.models import Sequential\n",
    "from keras.preprocessing.text import Tokenizer\n",
    "from sklearn.model_selection import train_test_split\n",
    "from tensorflow.keras.preprocessing.sequence import pad_sequences\n",
    "import matplotlib.pyplot as plt"
   ]
  },
  {
   "cell_type": "markdown",
   "metadata": {
    "id": "PqQ4cf8lVZsv"
   },
   "source": [
    "## Data and preprocessing"
   ]
  },
  {
   "cell_type": "code",
   "execution_count": 2,
   "metadata": {
    "id": "xtEFIUYWMbyc"
   },
   "outputs": [],
   "source": [
    "# Loading up data\n",
    "tweets = pd.read_json(\"https://github.com/SDS-AAU/SDS-master/raw/e2c959494d53859c1844604bed09a28a21566d0f/M3/assignments/trump_vs_GPT2.gz\")"
   ]
  },
  {
   "cell_type": "code",
   "execution_count": 3,
   "metadata": {
    "id": "c3CUpW7va5_8"
   },
   "outputs": [],
   "source": [
    "# Adding columnnames to the dataframe\n",
    "tweets.columns = [\"text\", \"status\"]"
   ]
  },
  {
   "cell_type": "code",
   "execution_count": 4,
   "metadata": {
    "colab": {
     "base_uri": "https://localhost:8080/"
    },
    "id": "BeVFAUL977-6",
    "outputId": "33070bc3-340c-40c3-e4fe-5040d150420d"
   },
   "outputs": [
    {
     "data": {
      "text/plain": [
       "0        1\n",
       "1        1\n",
       "2        1\n",
       "3        1\n",
       "4        1\n",
       "        ..\n",
       "14731    0\n",
       "14732    0\n",
       "14733    0\n",
       "14734    0\n",
       "14735    0\n",
       "Name: status, Length: 14736, dtype: int64"
      ]
     },
     "execution_count": 4,
     "metadata": {
      "tags": []
     },
     "output_type": "execute_result"
    }
   ],
   "source": [
    "# Tranforming from boolean to integer - for the neural net\n",
    "tweets['status'].astype(int)"
   ]
  },
  {
   "cell_type": "code",
   "execution_count": 5,
   "metadata": {
    "colab": {
     "base_uri": "https://localhost:8080/",
     "height": 203
    },
    "id": "BaGVvHfo2Bie",
    "outputId": "c7994636-6819-4fab-e3ea-c8e199be2f8a"
   },
   "outputs": [
    {
     "data": {
      "text/html": [
       "<div>\n",
       "<style scoped>\n",
       "    .dataframe tbody tr th:only-of-type {\n",
       "        vertical-align: middle;\n",
       "    }\n",
       "\n",
       "    .dataframe tbody tr th {\n",
       "        vertical-align: top;\n",
       "    }\n",
       "\n",
       "    .dataframe thead th {\n",
       "        text-align: right;\n",
       "    }\n",
       "</style>\n",
       "<table border=\"1\" class=\"dataframe\">\n",
       "  <thead>\n",
       "    <tr style=\"text-align: right;\">\n",
       "      <th></th>\n",
       "      <th>text</th>\n",
       "      <th>status</th>\n",
       "      <th>length</th>\n",
       "    </tr>\n",
       "  </thead>\n",
       "  <tbody>\n",
       "    <tr>\n",
       "      <th>0</th>\n",
       "      <td>I was thrilled to be back in the Great city of...</td>\n",
       "      <td>True</td>\n",
       "      <td>210</td>\n",
       "    </tr>\n",
       "    <tr>\n",
       "      <th>1</th>\n",
       "      <td>The Unsolicited Mail In Ballot Scam is a major...</td>\n",
       "      <td>True</td>\n",
       "      <td>100</td>\n",
       "    </tr>\n",
       "    <tr>\n",
       "      <th>2</th>\n",
       "      <td>As long as I am President, I will always stand...</td>\n",
       "      <td>True</td>\n",
       "      <td>82</td>\n",
       "    </tr>\n",
       "    <tr>\n",
       "      <th>3</th>\n",
       "      <td>Our Economy is doing great, and is ready to se...</td>\n",
       "      <td>True</td>\n",
       "      <td>81</td>\n",
       "    </tr>\n",
       "    <tr>\n",
       "      <th>4</th>\n",
       "      <td>If I do not sound like a typical Washington po...</td>\n",
       "      <td>True</td>\n",
       "      <td>90</td>\n",
       "    </tr>\n",
       "  </tbody>\n",
       "</table>\n",
       "</div>"
      ],
      "text/plain": [
       "                                                text  status  length\n",
       "0  I was thrilled to be back in the Great city of...    True     210\n",
       "1  The Unsolicited Mail In Ballot Scam is a major...    True     100\n",
       "2  As long as I am President, I will always stand...    True      82\n",
       "3  Our Economy is doing great, and is ready to se...    True      81\n",
       "4  If I do not sound like a typical Washington po...    True      90"
      ]
     },
     "execution_count": 5,
     "metadata": {
      "tags": []
     },
     "output_type": "execute_result"
    }
   ],
   "source": [
    "# I want to see the length of the tweets to check for outliers\n",
    "length = []\n",
    "[length.append(len(str(text))) for text in tweets['text']]\n",
    "tweets['length'] = length\n",
    "tweets.head()"
   ]
  },
  {
   "cell_type": "code",
   "execution_count": 6,
   "metadata": {
    "colab": {
     "base_uri": "https://localhost:8080/"
    },
    "id": "x9y4QERJ2hMn",
    "outputId": "8526c489-d91b-4252-f22a-1f8acee0c039"
   },
   "outputs": [
    {
     "name": "stdout",
     "output_type": "stream",
     "text": [
      "0\n",
      "296\n",
      "163\n"
     ]
    }
   ],
   "source": [
    "# Seems like i have to remove some since the min value is 0\n",
    "print(min(tweets['length']))\n",
    "print(max(tweets['length']))\n",
    "print(round(sum(tweets['length'])/len(tweets['length'])))"
   ]
  },
  {
   "cell_type": "code",
   "execution_count": 7,
   "metadata": {
    "colab": {
     "base_uri": "https://localhost:8080/"
    },
    "id": "QiH1uVbC3X9T",
    "outputId": "3dd9c09a-127f-4114-d6f3-a51baf13b938"
   },
   "outputs": [
    {
     "data": {
      "text/plain": [
       "408"
      ]
     },
     "execution_count": 7,
     "metadata": {
      "tags": []
     },
     "output_type": "execute_result"
    }
   ],
   "source": [
    "# 408 tweets with a length under 10 words\n",
    "# I'm choosing this since i want a full sentence and not just single words\n",
    "len(tweets[tweets['length'] < 10])"
   ]
  },
  {
   "cell_type": "code",
   "execution_count": 8,
   "metadata": {
    "id": "ZiW0rLGD6bja"
   },
   "outputs": [],
   "source": [
    "# Keeping all rows with a length over or equal to 10 words\n",
    "tweets = tweets[tweets.length >= 10]"
   ]
  },
  {
   "cell_type": "code",
   "execution_count": 9,
   "metadata": {
    "id": "7XzxOhfueKPo"
   },
   "outputs": [],
   "source": [
    "# Instantiating of the tokenizer setting oov_token to True \n",
    "# any unknown words will be replaced\n",
    "# Also removing punctuation by default\n",
    "tokenizer = Tokenizer(lower=True, oov_token=True)"
   ]
  },
  {
   "cell_type": "code",
   "execution_count": 10,
   "metadata": {
    "id": "RZ4gyMHY7kY-"
   },
   "outputs": [],
   "source": [
    "# Defining my dependent and independent variable\n",
    "# I want to predict the status 0 or 1, so that will be the dependent variable\n",
    "X = tweets['text']\n",
    "y = tweets['status']"
   ]
  },
  {
   "cell_type": "code",
   "execution_count": 11,
   "metadata": {
    "id": "dsaV6ce48H41"
   },
   "outputs": [],
   "source": [
    "# Making the train test split for the model\n",
    "# Picking a test size of 0.3 - tried to adjust it, but result didn't get better\n",
    "X_train, X_test, y_train, y_test = train_test_split(X, y, test_size=0.3, random_state=42)"
   ]
  },
  {
   "cell_type": "code",
   "execution_count": 12,
   "metadata": {
    "id": "_2IjK-hEay7Y"
   },
   "outputs": [],
   "source": [
    "# Fitting the tokenizer on the training data \n",
    "tokenizer.fit_on_texts(X_train)"
   ]
  },
  {
   "cell_type": "code",
   "execution_count": 13,
   "metadata": {
    "id": "H4xR0nbw9iKg"
   },
   "outputs": [],
   "source": [
    "# I have to fit the tokenizer on the data before i can get the vocab size\n",
    "# Here i have the size for the input_dim in the Embedding layer\n",
    "max_vocab = len(tokenizer.word_index)+1"
   ]
  },
  {
   "cell_type": "code",
   "execution_count": 14,
   "metadata": {
    "id": "babdjMxNcFOo"
   },
   "outputs": [],
   "source": [
    "# And then turning words into numbers/sequences for the neural net\n",
    "sequences_train = tokenizer.texts_to_sequences(X_train)\n",
    "sequences_test = tokenizer.texts_to_sequences(X_test)"
   ]
  },
  {
   "cell_type": "code",
   "execution_count": 15,
   "metadata": {
    "id": "OhFFEHomiFxC"
   },
   "outputs": [],
   "source": [
    "# Furthermore padding the sequences to give them the same length \n",
    "# This is required when giving input to the neural net\n",
    "data_train = pad_sequences(sequences_train)\n",
    "data_test = pad_sequences(sequences_test, maxlen=data_train.shape[1])"
   ]
  },
  {
   "cell_type": "markdown",
   "metadata": {
    "id": "fG0PKwNZT56r"
   },
   "source": [
    "## Building the model"
   ]
  },
  {
   "cell_type": "code",
   "execution_count": 16,
   "metadata": {
    "id": "4JbxeW54r78O"
   },
   "outputs": [],
   "source": [
    "# Using a Sequential model which can process sequences of integers which is what i got\n",
    "model = keras.Sequential()"
   ]
  },
  {
   "cell_type": "code",
   "execution_count": 17,
   "metadata": {
    "id": "jjRp8gBG9zK1"
   },
   "outputs": [],
   "source": [
    "# Adding an Embedding layer to compress the input\n",
    "# Where the input size is equal to the vocabulary size + 1\n",
    "# Keeping a small number for output since it gave the best results\n",
    "model.add(layers.Embedding(max_vocab, 16))"
   ]
  },
  {
   "cell_type": "code",
   "execution_count": 18,
   "metadata": {
    "id": "CV4Bgvu3-iXl"
   },
   "outputs": [],
   "source": [
    "# Adding BidirectionalLSTM layer because i want the model to read both back and forth\n",
    "# Where the normal LSTM model only reads from left to right\n",
    "# So this one should give a better result than the normal one\n",
    "# Also adding Dropout of 0.9 since i found that the model performed better with this\n",
    "model.add(layers.Bidirectional(layers.LSTM(8, return_sequences=True, dropout=0.9)))"
   ]
  },
  {
   "cell_type": "code",
   "execution_count": 19,
   "metadata": {
    "id": "kmCHEdQY_3Ra"
   },
   "outputs": [],
   "source": [
    "# Output layer with sigmoid activation function\n",
    "model.add(layers.Dense(1, activation='sigmoid'))"
   ]
  },
  {
   "cell_type": "code",
   "execution_count": 20,
   "metadata": {
    "colab": {
     "base_uri": "https://localhost:8080/"
    },
    "id": "kVGgOnOzZ3ay",
    "outputId": "bf13d348-854a-4319-b94d-5ac8143d7afd"
   },
   "outputs": [
    {
     "name": "stdout",
     "output_type": "stream",
     "text": [
      "Model: \"sequential\"\n",
      "_________________________________________________________________\n",
      "Layer (type)                 Output Shape              Param #   \n",
      "=================================================================\n",
      "embedding (Embedding)        (None, None, 16)          209920    \n",
      "_________________________________________________________________\n",
      "bidirectional (Bidirectional (None, None, 16)          1600      \n",
      "_________________________________________________________________\n",
      "dense (Dense)                (None, None, 1)           17        \n",
      "=================================================================\n",
      "Total params: 211,537\n",
      "Trainable params: 211,537\n",
      "Non-trainable params: 0\n",
      "_________________________________________________________________\n"
     ]
    }
   ],
   "source": [
    "# We can see there is 211.537 trainable parameters \n",
    "# I found that when trying with over 1 million parameters the model gets overfitted real quick\n",
    "model.summary()"
   ]
  },
  {
   "cell_type": "markdown",
   "metadata": {
    "id": "b5xTNro_Uwpd"
   },
   "source": [
    "## Training and evaluation of the model"
   ]
  },
  {
   "cell_type": "code",
   "execution_count": 21,
   "metadata": {
    "id": "G8Bg9Xu___K2"
   },
   "outputs": [],
   "source": [
    "# Using binary_crossentropy since there are only two label classes 0 and 1\n",
    "model.compile(optimizer='adam', loss='binary_crossentropy', metrics=['accuracy'])"
   ]
  },
  {
   "cell_type": "code",
   "execution_count": 22,
   "metadata": {
    "colab": {
     "base_uri": "https://localhost:8080/"
    },
    "id": "IHAAyT2DAMIV",
    "outputId": "11bf32db-fc36-4a22-8687-803673196421"
   },
   "outputs": [
    {
     "name": "stdout",
     "output_type": "stream",
     "text": [
      "Epoch 1/6\n",
      "157/157 [==============================] - 3s 19ms/step - loss: 0.6148 - accuracy: 0.6818 - val_loss: 0.4837 - val_accuracy: 0.8163\n",
      "Epoch 2/6\n",
      "157/157 [==============================] - 2s 15ms/step - loss: 0.4795 - accuracy: 0.8043 - val_loss: 0.4379 - val_accuracy: 0.8270\n",
      "Epoch 3/6\n",
      "157/157 [==============================] - 2s 15ms/step - loss: 0.4384 - accuracy: 0.8196 - val_loss: 0.3953 - val_accuracy: 0.8462\n",
      "Epoch 4/6\n",
      "157/157 [==============================] - 2s 15ms/step - loss: 0.4003 - accuracy: 0.8390 - val_loss: 0.3772 - val_accuracy: 0.8491\n",
      "Epoch 5/6\n",
      "157/157 [==============================] - 2s 15ms/step - loss: 0.3732 - accuracy: 0.8518 - val_loss: 0.3602 - val_accuracy: 0.8547\n",
      "Epoch 6/6\n",
      "157/157 [==============================] - 2s 15ms/step - loss: 0.3514 - accuracy: 0.8588 - val_loss: 0.3466 - val_accuracy: 0.8591\n"
     ]
    }
   ],
   "source": [
    "# I found that the number of epochs fits on 6 and also batch size of 64\n",
    "# I have tried many different setups, and in many cases i ended up overfitting the training set\n",
    "r = model.fit(data_train, y_train, epochs=6, validation_data=(data_test, y_test), batch_size=64)"
   ]
  },
  {
   "cell_type": "markdown",
   "metadata": {
    "id": "aa_7vXlwdp7P"
   },
   "source": [
    "I can see here that the loss score is decreasing for both the training and test set in each epoch as well as the accuracy is increasing which is the goal for this step here where i want to achieve a low loss and a high accuracy meaning that the model is as precise as it can be. \n",
    "The reason why i didn't choose more epochs is because the training set starts to get overfitted from here. PLEASE BE AWARE THAT THE val_accuracy IS FOUND UNDER THE 'Epoch 1/6 157/157'."
   ]
  },
  {
   "cell_type": "code",
   "execution_count": 23,
   "metadata": {
    "colab": {
     "base_uri": "https://localhost:8080/",
     "height": 293
    },
    "id": "FA6otSvdK690",
    "outputId": "74122ff6-11f9-4e79-bc8b-a2817a08c077"
   },
   "outputs": [
    {
     "data": {
      "image/png": "[encoded data removed]",
      "text/plain": [
       "<Figure size 432x288 with 1 Axes>"
      ]
     },
     "metadata": {
      "needs_background": "light",
      "tags": []
     },
     "output_type": "display_data"
    }
   ],
   "source": [
    "# Now i want to compare the train and test results in the following two graphs\n",
    "plt.plot(r.history['accuracy'])\n",
    "plt.plot(r.history['val_accuracy'])\n",
    "plt.title('Model Accuracy')\n",
    "plt.ylabel('Accuracy')\n",
    "plt.xlabel('Epoch', labelpad=2)\n",
    "plt.legend(['train', 'test'], loc='upper left')\n",
    "plt.show()"
   ]
  },
  {
   "cell_type": "markdown",
   "metadata": {
    "id": "iY2RHfQfRSd3"
   },
   "source": [
    "From this i can see that both the train and test set is improving over the 6 epochs and then ending up being approximately the same in the last epoch. (0, 1, 2, 3, 4, 5 - so six)"
   ]
  },
  {
   "cell_type": "code",
   "execution_count": 24,
   "metadata": {
    "colab": {
     "base_uri": "https://localhost:8080/",
     "height": 295
    },
    "id": "IAXEUdn_f5zV",
    "outputId": "d6d0c695-8bcd-4526-ab73-b97c93f04d0a"
   },
   "outputs": [
    {
     "data": {
      "image/png": "[encoded data removed]",
      "text/plain": [
       "<Figure size 432x288 with 1 Axes>"
      ]
     },
     "metadata": {
      "needs_background": "light",
      "tags": []
     },
     "output_type": "display_data"
    }
   ],
   "source": [
    "# Taking a look at the loss score here\n",
    "plt.plot(r.history['loss'])\n",
    "plt.plot(r.history['val_loss'])\n",
    "plt.title('Loss')\n",
    "plt.ylabel('Loss')\n",
    "plt.xlabel('Epoch')\n",
    "plt.legend(['train', 'test'], loc='upper right')\n",
    "plt.show()"
   ]
  },
  {
   "cell_type": "markdown",
   "metadata": {
    "id": "YIOf3P_CRg5s"
   },
   "source": [
    "The same is the case for the loss score, where the graphs are almost meeting each other in the 6th epoch which means that it is the near perfect fit. \n",
    "\n",
    "I had a lot of trouble finding a good match, where in many cases the model ended up being overfit - being that the training set was improving really quick ending on 0.98 on the accuracy score but with high loss score on the validation set - which should be as low as possible. \n",
    "I have both tried adding more layers to the model and also adjusting the number of neurons in the layers, but i found that keeping the model on few layers with few neurons and a high dropout rate gave me the best performing neural net. \n"
   ]
  },
  {
   "cell_type": "markdown",
   "metadata": {
    "id": "L1g3W9svSPwx"
   },
   "source": [
    "So this means that the model will be able to detect a fake tweet with an accuracy of 86%."
   ]
  },
  {
   "cell_type": "code",
   "execution_count": null,
   "metadata": {
    "id": "D8HMAN0ma6QE"
   },
   "outputs": [],
   "source": [
    "!jupyter nbconvert --to html \"/content/M3A1.ipynb\""
   ]
  }
 ],
 "metadata": {
  "accelerator": "GPU",
  "colab": {
   "collapsed_sections": [],
   "name": "M3A1",
   "provenance": []
  },
  "kernelspec": {
   "display_name": "Python 3",
   "language": "python",
   "name": "python3"
  },
  "language_info": {
   "codemirror_mode": {
    "name": "ipython",
    "version": 3
   },
   "file_extension": ".py",
   "mimetype": "text/x-python",
   "name": "python",
   "nbconvert_exporter": "python",
   "pygments_lexer": "ipython3",
   "version": "3.8.3"
  }
 },
 "nbformat": 4,
 "nbformat_minor": 1
}
